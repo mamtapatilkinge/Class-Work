{
  "cells": [
    {
      "cell_type": "markdown",
      "metadata": {
        "id": "view-in-github",
        "colab_type": "text"
      },
      "source": [
        "<a href=\"https://colab.research.google.com/github/mamtapatilkinge/Class-Work/blob/main/Python2ndday.ipynb\" target=\"_parent\"><img src=\"https://colab.research.google.com/assets/colab-badge.svg\" alt=\"Open In Colab\"/></a>"
      ]
    },
    {
      "cell_type": "markdown",
      "metadata": {
        "id": "D65csvP1R0Ne"
      },
      "source": [
        "## Iterable"
      ]
    },
    {
      "cell_type": "code",
      "execution_count": 1,
      "metadata": {
        "colab": {
          "base_uri": "https://localhost:8080/"
        },
        "id": "XsvSt0yCR0OC",
        "outputId": "50aecb9d-cb79-47a1-8c1d-6bdfc453360b"
      },
      "outputs": [
        {
          "metadata": {
            "tags": null
          },
          "name": "stdout",
          "output_type": "stream",
          "text": [
            "1\n",
            "2\n",
            "3\n"
          ]
        }
      ],
      "source": [
        "for x in [1,2,3]:\n",
        "    print(x)"
      ]
    },
    {
      "cell_type": "code",
      "execution_count": 2,
      "metadata": {
        "colab": {
          "base_uri": "https://localhost:8080/"
        },
        "id": "pqz77gF-R0OJ",
        "outputId": "7b99f8a3-79de-4e06-bd51-ee7b15ab70b1"
      },
      "outputs": [
        {
          "metadata": {
            "tags": null
          },
          "name": "stdout",
          "output_type": "stream",
          "text": [
            "2\n",
            "4\n",
            "6\n"
          ]
        }
      ],
      "source": [
        "for x in [1,2,3]:\n",
        "    print(x*2)"
      ]
    },
    {
      "cell_type": "code",
      "execution_count": 3,
      "metadata": {
        "colab": {
          "base_uri": "https://localhost:8080/"
        },
        "id": "vx6RlQEzR0OL",
        "outputId": "3fe0af24-d1c1-4a01-f44a-16f67c6d6c59"
      },
      "outputs": [
        {
          "metadata": {
            "tags": null
          },
          "name": "stdout",
          "output_type": "stream",
          "text": [
            "1\n",
            "hi\n",
            "2\n",
            "hi\n",
            "3\n",
            "hi\n"
          ]
        }
      ],
      "source": [
        "for x in [1,2,3]:\n",
        "    print(x)\n",
        "    print('hi')"
      ]
    },
    {
      "cell_type": "code",
      "execution_count": 4,
      "metadata": {
        "colab": {
          "base_uri": "https://localhost:8080/"
        },
        "id": "LP4yPi6vR0OM",
        "outputId": "b9b8c358-4af0-4692-e52b-42244cccd93e"
      },
      "outputs": [
        {
          "metadata": {
            "tags": null
          },
          "name": "stdout",
          "output_type": "stream",
          "text": [
            "1\n",
            "2\n",
            "3\n",
            "hello\n"
          ]
        }
      ],
      "source": [
        "for x in [1,2,3]:\n",
        "    print(x)\n",
        "print('hello')"
      ]
    },
    {
      "cell_type": "code",
      "execution_count": 5,
      "metadata": {
        "id": "NtKZQxW3R0ON"
      },
      "outputs": [],
      "source": [
        "list1= [1,2,3,4,5]"
      ]
    },
    {
      "cell_type": "code",
      "execution_count": 6,
      "metadata": {
        "colab": {
          "base_uri": "https://localhost:8080/"
        },
        "id": "ywCcoUpYR0OO",
        "outputId": "ccb5ce1e-652b-477e-8a7d-d8ea5f48c50d"
      },
      "outputs": [
        {
          "metadata": {
            "tags": null
          },
          "name": "stdout",
          "output_type": "stream",
          "text": [
            "1\n",
            "2\n",
            "3\n",
            "4\n",
            "5\n"
          ]
        }
      ],
      "source": [
        "for x in list1:\n",
        "    print(x)"
      ]
    },
    {
      "cell_type": "code",
      "execution_count": 7,
      "metadata": {
        "colab": {
          "base_uri": "https://localhost:8080/"
        },
        "id": "AoiCwK49R0OQ",
        "outputId": "719ea307-69ee-455b-8d58-94c8424b0bd9"
      },
      "outputs": [
        {
          "metadata": {
            "tags": null
          },
          "name": "stdout",
          "output_type": "stream",
          "text": [
            "h\n",
            "e\n",
            "l\n",
            "l\n",
            "o\n",
            " \n",
            "w\n",
            "o\n",
            "r\n",
            "l\n",
            "d\n"
          ]
        }
      ],
      "source": [
        "for y in 'hello world':\n",
        "    print(y)"
      ]
    },
    {
      "cell_type": "code",
      "execution_count": 8,
      "metadata": {
        "colab": {
          "base_uri": "https://localhost:8080/"
        },
        "id": "E1KHep-IR0OR",
        "outputId": "361a3e7e-d56c-4469-90f0-957c689b7333"
      },
      "outputs": [
        {
          "data": {
            "text/plain": [
              "[1, 5.5, 'hi']"
            ]
          },
          "execution_count": 8,
          "metadata": {},
          "output_type": "execute_result"
        }
      ],
      "source": [
        "list2 = [1,5.5,'hi']\n",
        "list2"
      ]
    },
    {
      "cell_type": "code",
      "execution_count": 9,
      "metadata": {
        "colab": {
          "base_uri": "https://localhost:8080/"
        },
        "id": "HLgX0mpkR0OU",
        "outputId": "c0713262-626f-470a-f35f-e4d29a68e948"
      },
      "outputs": [
        {
          "data": {
            "text/plain": [
              "(10, 20, 30, 40, 50)"
            ]
          },
          "execution_count": 9,
          "metadata": {},
          "output_type": "execute_result"
        }
      ],
      "source": [
        "tup1= (10,20,30,40,50)\n",
        "tup1"
      ]
    },
    {
      "cell_type": "code",
      "execution_count": 10,
      "metadata": {
        "colab": {
          "base_uri": "https://localhost:8080/"
        },
        "id": "8TmOR3PIR0OV",
        "outputId": "8cee77fb-edd1-4ce6-e7d1-d172144b3cbb"
      },
      "outputs": [
        {
          "data": {
            "text/plain": [
              "(4, 7.7, 'hello')"
            ]
          },
          "execution_count": 10,
          "metadata": {},
          "output_type": "execute_result"
        }
      ],
      "source": [
        "tup2 = (4,7.7,'hello')\n",
        "tup2"
      ]
    },
    {
      "cell_type": "code",
      "execution_count": 11,
      "metadata": {
        "id": "wdHiZSClR0OW"
      },
      "outputs": [],
      "source": [
        "str1= \"hello world\""
      ]
    },
    {
      "cell_type": "code",
      "execution_count": 12,
      "metadata": {
        "colab": {
          "base_uri": "https://localhost:8080/",
          "height": 35
        },
        "id": "ZNAxgIpvR0Ot",
        "outputId": "ac0fc0a5-d133-473a-da99-3934ebd9a970"
      },
      "outputs": [
        {
          "data": {
            "application/vnd.google.colaboratory.intrinsic+json": {
              "type": "string"
            },
            "text/plain": [
              "'hello123'"
            ]
          },
          "execution_count": 12,
          "metadata": {},
          "output_type": "execute_result"
        }
      ],
      "source": [
        "str2 = 'hello123'\n",
        "str2"
      ]
    },
    {
      "cell_type": "markdown",
      "metadata": {
        "id": "LApH6CAaR0PF"
      },
      "source": [
        "## Sequence methods"
      ]
    },
    {
      "cell_type": "code",
      "execution_count": 13,
      "metadata": {
        "colab": {
          "base_uri": "https://localhost:8080/"
        },
        "id": "U8qNk8PAR0PR",
        "outputId": "03258cc5-0a44-4bac-af98-f58c0888bf66"
      },
      "outputs": [
        {
          "data": {
            "text/plain": [
              "[1, 2, 3, 4, 5]"
            ]
          },
          "execution_count": 13,
          "metadata": {},
          "output_type": "execute_result"
        }
      ],
      "source": [
        "list1\n"
      ]
    },
    {
      "cell_type": "code",
      "execution_count": 14,
      "metadata": {
        "colab": {
          "base_uri": "https://localhost:8080/"
        },
        "id": "wvWGq-h6R0PZ",
        "outputId": "f3979b3d-205e-40bb-c21f-be0c7239e22f"
      },
      "outputs": [
        {
          "data": {
            "text/plain": [
              "True"
            ]
          },
          "execution_count": 14,
          "metadata": {},
          "output_type": "execute_result"
        }
      ],
      "source": [
        "3 in list1"
      ]
    },
    {
      "cell_type": "code",
      "execution_count": 15,
      "metadata": {
        "colab": {
          "base_uri": "https://localhost:8080/"
        },
        "id": "DUfOPiF4R0P4",
        "outputId": "f92c674f-15d4-47f9-813f-3d666d20adb0"
      },
      "outputs": [
        {
          "data": {
            "text/plain": [
              "False"
            ]
          },
          "execution_count": 15,
          "metadata": {},
          "output_type": "execute_result"
        }
      ],
      "source": [
        "10 in list1"
      ]
    },
    {
      "cell_type": "code",
      "execution_count": 16,
      "metadata": {
        "colab": {
          "base_uri": "https://localhost:8080/"
        },
        "id": "F8gCgnMyR0P7",
        "outputId": "f083e00a-798c-43a9-cb00-333c7e4b418a"
      },
      "outputs": [
        {
          "data": {
            "text/plain": [
              "True"
            ]
          },
          "execution_count": 16,
          "metadata": {},
          "output_type": "execute_result"
        }
      ],
      "source": [
        "10 not in list1"
      ]
    },
    {
      "cell_type": "code",
      "execution_count": 17,
      "metadata": {
        "colab": {
          "base_uri": "https://localhost:8080/",
          "height": 35
        },
        "id": "0aa5FbZFR0P8",
        "outputId": "0272796b-0233-42c0-9fef-5f33201938c7"
      },
      "outputs": [
        {
          "data": {
            "application/vnd.google.colaboratory.intrinsic+json": {
              "type": "string"
            },
            "text/plain": [
              "'hello world'"
            ]
          },
          "execution_count": 17,
          "metadata": {},
          "output_type": "execute_result"
        }
      ],
      "source": [
        "str1"
      ]
    },
    {
      "cell_type": "code",
      "execution_count": 18,
      "metadata": {
        "colab": {
          "base_uri": "https://localhost:8080/"
        },
        "id": "Q_5H5NxqR0QE",
        "outputId": "74593cce-e4c9-4c08-fe7b-9892ad09da48"
      },
      "outputs": [
        {
          "data": {
            "text/plain": [
              "True"
            ]
          },
          "execution_count": 18,
          "metadata": {},
          "output_type": "execute_result"
        }
      ],
      "source": [
        "'w' in str1"
      ]
    },
    {
      "cell_type": "code",
      "execution_count": 19,
      "metadata": {
        "colab": {
          "base_uri": "https://localhost:8080/"
        },
        "id": "U2qtNuz2R0QG",
        "outputId": "4c018018-aa31-4ab2-c979-2247a83620f0"
      },
      "outputs": [
        {
          "data": {
            "text/plain": [
              "True"
            ]
          },
          "execution_count": 19,
          "metadata": {},
          "output_type": "execute_result"
        }
      ],
      "source": [
        "'a' not in str1"
      ]
    },
    {
      "cell_type": "code",
      "execution_count": 20,
      "metadata": {
        "id": "45yzQkG9R0QI"
      },
      "outputs": [],
      "source": [
        "t= (3,5,6,88,6,'he')"
      ]
    },
    {
      "cell_type": "code",
      "execution_count": 21,
      "metadata": {
        "colab": {
          "base_uri": "https://localhost:8080/"
        },
        "id": "J2tL993fR0QI",
        "outputId": "ecb0523d-fa8e-4ef8-d745-5981d9d28293"
      },
      "outputs": [
        {
          "data": {
            "text/plain": [
              "True"
            ]
          },
          "execution_count": 21,
          "metadata": {},
          "output_type": "execute_result"
        }
      ],
      "source": [
        "6 in t"
      ]
    },
    {
      "cell_type": "code",
      "execution_count": 22,
      "metadata": {
        "colab": {
          "base_uri": "https://localhost:8080/"
        },
        "id": "W7XhjvzpR0QM",
        "outputId": "7510ad6b-1ce5-43fe-9969-433a361854b9"
      },
      "outputs": [
        {
          "data": {
            "text/plain": [
              "False"
            ]
          },
          "execution_count": 22,
          "metadata": {},
          "output_type": "execute_result"
        }
      ],
      "source": [
        "'h' in t"
      ]
    },
    {
      "cell_type": "code",
      "execution_count": 22,
      "metadata": {
        "id": "VbA6jtiOR0QN"
      },
      "outputs": [],
      "source": []
    },
    {
      "cell_type": "markdown",
      "metadata": {
        "id": "zdkQqy8lR0QO"
      },
      "source": [
        "## Concatenate"
      ]
    },
    {
      "cell_type": "code",
      "execution_count": 23,
      "metadata": {
        "id": "MdG42VJKR0QO"
      },
      "outputs": [],
      "source": [
        "list1= [1,2,3,4,5]\n",
        "list2 = [1,5.5,'hi']"
      ]
    },
    {
      "cell_type": "code",
      "execution_count": 24,
      "metadata": {
        "colab": {
          "base_uri": "https://localhost:8080/"
        },
        "id": "_BOr_5zrR0QP",
        "outputId": "1e2fc707-782a-40b1-9df9-269bd808eb44"
      },
      "outputs": [
        {
          "data": {
            "text/plain": [
              "[1, 2, 3, 4, 5, 1, 5.5, 'hi']"
            ]
          },
          "execution_count": 24,
          "metadata": {},
          "output_type": "execute_result"
        }
      ],
      "source": [
        "list1+list2"
      ]
    },
    {
      "cell_type": "code",
      "execution_count": 25,
      "metadata": {
        "id": "RJbZj7G4R0QQ"
      },
      "outputs": [],
      "source": [
        "s1= \"hello\"\n",
        "s2= \"Python\""
      ]
    },
    {
      "cell_type": "code",
      "execution_count": 26,
      "metadata": {
        "colab": {
          "base_uri": "https://localhost:8080/",
          "height": 35
        },
        "id": "sPrTUq3mR0QR",
        "outputId": "01dd3e49-18f4-4392-fb4c-4070f504b473"
      },
      "outputs": [
        {
          "data": {
            "application/vnd.google.colaboratory.intrinsic+json": {
              "type": "string"
            },
            "text/plain": [
              "'helloPython'"
            ]
          },
          "execution_count": 26,
          "metadata": {},
          "output_type": "execute_result"
        }
      ],
      "source": [
        "s1+s2"
      ]
    },
    {
      "cell_type": "code",
      "execution_count": 27,
      "metadata": {
        "id": "7iduMUl0R0QS"
      },
      "outputs": [],
      "source": [
        "#s1+\" \"+s2"
      ]
    },
    {
      "cell_type": "code",
      "execution_count": 28,
      "metadata": {
        "colab": {
          "base_uri": "https://localhost:8080/",
          "height": 35
        },
        "id": "cFFHEOQcR0QT",
        "outputId": "090bff65-a12b-462e-f4fc-62ffcfd4450c"
      },
      "outputs": [
        {
          "data": {
            "application/vnd.google.colaboratory.intrinsic+json": {
              "type": "string"
            },
            "text/plain": [
              "'abcxyz'"
            ]
          },
          "execution_count": 28,
          "metadata": {},
          "output_type": "execute_result"
        }
      ],
      "source": [
        "'abc' + 'xyz'"
      ]
    },
    {
      "cell_type": "code",
      "execution_count": 29,
      "metadata": {
        "id": "tDeixeRLR0QU"
      },
      "outputs": [],
      "source": [
        "tup1= (10,20,30,40,50)\n",
        "tup2 = (4,7.7,'hello')"
      ]
    },
    {
      "cell_type": "code",
      "execution_count": 30,
      "metadata": {
        "colab": {
          "base_uri": "https://localhost:8080/"
        },
        "id": "GsXzZiYBR0QV",
        "outputId": "d0c6ec7f-5578-493c-9e9a-12ccd529cf2d"
      },
      "outputs": [
        {
          "data": {
            "text/plain": [
              "(10, 20, 30, 40, 50, 4, 7.7, 'hello')"
            ]
          },
          "execution_count": 30,
          "metadata": {},
          "output_type": "execute_result"
        }
      ],
      "source": [
        "tup1 + tup2"
      ]
    },
    {
      "cell_type": "code",
      "execution_count": null,
      "metadata": {
        "colab": {
          "base_uri": "https://localhost:8080/",
          "height": 165
        },
        "id": "lGreNc3rR0QW",
        "outputId": "ccb34e4f-c460-4fec-8318-84f6fa8fde4c"
      },
      "outputs": [
        {
          "ename": "TypeError",
          "evalue": "ignored",
          "output_type": "error",
          "traceback": [
            "\u001b[0;31m---------------------------------------------------------------------------\u001b[0m",
            "\u001b[0;31mTypeError\u001b[0m                                 Traceback (most recent call last)",
            "\u001b[0;32m<ipython-input-31-b47b3bd417ac>\u001b[0m in \u001b[0;36m<module>\u001b[0;34m\u001b[0m\n\u001b[0;32m----> 1\u001b[0;31m \u001b[0;34m[\u001b[0m\u001b[0;36m1\u001b[0m\u001b[0;34m,\u001b[0m\u001b[0;36m2\u001b[0m\u001b[0;34m,\u001b[0m\u001b[0;36m3\u001b[0m\u001b[0;34m,\u001b[0m\u001b[0;36m4\u001b[0m\u001b[0;34m,\u001b[0m\u001b[0;36m5\u001b[0m\u001b[0;34m]\u001b[0m\u001b[0;34m+\u001b[0m\u001b[0;34m(\u001b[0m\u001b[0;36m10\u001b[0m\u001b[0;34m,\u001b[0m\u001b[0;36m20\u001b[0m\u001b[0;34m,\u001b[0m\u001b[0;36m30\u001b[0m\u001b[0;34m,\u001b[0m\u001b[0;36m40\u001b[0m\u001b[0;34m,\u001b[0m\u001b[0;36m50\u001b[0m\u001b[0;34m)\u001b[0m\u001b[0;34m\u001b[0m\u001b[0;34m\u001b[0m\u001b[0m\n\u001b[0m",
            "\u001b[0;31mTypeError\u001b[0m: can only concatenate list (not \"tuple\") to list"
          ]
        }
      ],
      "source": [
        "[1,2,3,4,5]+(10,20,30,40,50)"
      ]
    },
    {
      "cell_type": "code",
      "execution_count": 57,
      "metadata": {
        "colab": {
          "base_uri": "https://localhost:8080/"
        },
        "id": "goKy6ZQLR0RJ",
        "outputId": "94b809e6-9c10-4c56-f757-fc98c06c0a8f"
      },
      "outputs": [
        {
          "output_type": "execute_result",
          "data": {
            "text/plain": [
              "[4, 56, 7, 8]"
            ]
          },
          "metadata": {},
          "execution_count": 57
        }
      ],
      "source": [
        "[4,56]+[7,8]"
      ]
    },
    {
      "cell_type": "markdown",
      "metadata": {
        "id": "JivuuOByR0Re"
      },
      "source": [
        "## Repitition"
      ]
    },
    {
      "cell_type": "code",
      "execution_count": null,
      "metadata": {
        "id": "0efMMJOKR0Rf"
      },
      "outputs": [],
      "source": [
        "10 * 'abc'"
      ]
    },
    {
      "cell_type": "code",
      "execution_count": null,
      "metadata": {
        "id": "VJddzi5xR0Rg"
      },
      "outputs": [],
      "source": [
        "5 * list1"
      ]
    },
    {
      "cell_type": "code",
      "execution_count": null,
      "metadata": {
        "id": "NxPym8_JR0Rh"
      },
      "outputs": [],
      "source": [
        "2* tup1"
      ]
    },
    {
      "cell_type": "markdown",
      "metadata": {
        "id": "VSJqlwQjR0Ri"
      },
      "source": [
        "## Lenth,Min,Max"
      ]
    },
    {
      "cell_type": "code",
      "execution_count": null,
      "metadata": {
        "id": "VHxVpahlR0Ri"
      },
      "outputs": [],
      "source": [
        "list1\n"
      ]
    },
    {
      "cell_type": "code",
      "execution_count": null,
      "metadata": {
        "id": "UZ3AUwQLR0Rk"
      },
      "outputs": [],
      "source": [
        "len(list1)"
      ]
    },
    {
      "cell_type": "code",
      "execution_count": null,
      "metadata": {
        "id": "IkiV0-LCR0Rl"
      },
      "outputs": [],
      "source": [
        "min(list1)"
      ]
    },
    {
      "cell_type": "code",
      "execution_count": null,
      "metadata": {
        "id": "ojF2U-3oR0Rl"
      },
      "outputs": [],
      "source": [
        "max(list1)"
      ]
    },
    {
      "cell_type": "code",
      "execution_count": null,
      "metadata": {
        "id": "zsapZ01zR0Rm"
      },
      "outputs": [],
      "source": [
        "list2"
      ]
    },
    {
      "cell_type": "code",
      "execution_count": null,
      "metadata": {
        "id": "-idqf2vPR0Rn"
      },
      "outputs": [],
      "source": [
        "len(list2)"
      ]
    },
    {
      "cell_type": "code",
      "execution_count": null,
      "metadata": {
        "id": "fHNnfJ_BR0Ro"
      },
      "outputs": [],
      "source": [
        "min(list2) "
      ]
    },
    {
      "cell_type": "code",
      "execution_count": null,
      "metadata": {
        "id": "mJaP8HbrR0Ro"
      },
      "outputs": [],
      "source": []
    },
    {
      "cell_type": "code",
      "execution_count": null,
      "metadata": {
        "id": "QBtk8tkHR0Rp"
      },
      "outputs": [],
      "source": [
        "list3 = [1,5,5.5,9.9,10]\n",
        "list3"
      ]
    },
    {
      "cell_type": "code",
      "execution_count": null,
      "metadata": {
        "id": "etyS0UASR0Rp"
      },
      "outputs": [],
      "source": [
        "min(list3)"
      ]
    },
    {
      "cell_type": "code",
      "execution_count": null,
      "metadata": {
        "id": "TAbJMy7uR0Rq"
      },
      "outputs": [],
      "source": [
        "max(list3)"
      ]
    },
    {
      "cell_type": "code",
      "execution_count": 32,
      "metadata": {
        "colab": {
          "base_uri": "https://localhost:8080/",
          "height": 165
        },
        "id": "J5c2KGbvR0R0",
        "outputId": "fff1fd96-d6dc-46fb-f9af-5947f982a1dd"
      },
      "outputs": [
        {
          "ename": "NameError",
          "evalue": "ignored",
          "output_type": "error",
          "traceback": [
            "\u001b[0;31m---------------------------------------------------------------------------\u001b[0m",
            "\u001b[0;31mNameError\u001b[0m                                 Traceback (most recent call last)",
            "\u001b[0;32m<ipython-input-32-60902ef492eb>\u001b[0m in \u001b[0;36m<module>\u001b[0;34m\u001b[0m\n\u001b[0;32m----> 1\u001b[0;31m \u001b[0mlen\u001b[0m\u001b[0;34m(\u001b[0m\u001b[0mlist3\u001b[0m\u001b[0;34m)\u001b[0m\u001b[0;34m\u001b[0m\u001b[0;34m\u001b[0m\u001b[0m\n\u001b[0m",
            "\u001b[0;31mNameError\u001b[0m: name 'list3' is not defined"
          ]
        }
      ],
      "source": [
        "len(list3)"
      ]
    },
    {
      "cell_type": "markdown",
      "metadata": {
        "id": "oL3Co_T7R0SS"
      },
      "source": [
        "## Index Position"
      ]
    },
    {
      "cell_type": "code",
      "execution_count": null,
      "metadata": {
        "id": "2fc84XdoR0Sm"
      },
      "outputs": [],
      "source": [
        "str1"
      ]
    },
    {
      "cell_type": "code",
      "execution_count": null,
      "metadata": {
        "id": "M-AMztBxR0So"
      },
      "outputs": [],
      "source": [
        "str1.index('w')"
      ]
    },
    {
      "cell_type": "code",
      "execution_count": null,
      "metadata": {
        "id": "epWBicgRR0St"
      },
      "outputs": [],
      "source": [
        "str1.index('l')"
      ]
    },
    {
      "cell_type": "code",
      "execution_count": null,
      "metadata": {
        "id": "FPdeFLKPR0S9"
      },
      "outputs": [],
      "source": [
        "str1.index('l',5)"
      ]
    },
    {
      "cell_type": "code",
      "execution_count": null,
      "metadata": {
        "id": "hxNnls2vR0TA"
      },
      "outputs": [],
      "source": [
        "str1.index('l',3)"
      ]
    },
    {
      "cell_type": "code",
      "execution_count": null,
      "metadata": {
        "id": "DjAYQtwcR0Ta"
      },
      "outputs": [],
      "source": []
    },
    {
      "cell_type": "code",
      "execution_count": null,
      "metadata": {
        "id": "sGiOxYhyR0Tp"
      },
      "outputs": [],
      "source": [
        "str1.index('o',5,9)"
      ]
    },
    {
      "cell_type": "markdown",
      "metadata": {
        "id": "ubjpbpVxR0UQ"
      },
      "source": [
        "## Addition of elements"
      ]
    },
    {
      "cell_type": "code",
      "execution_count": null,
      "metadata": {
        "id": "RQuij9akR0Ub"
      },
      "outputs": [],
      "source": [
        "list1"
      ]
    },
    {
      "cell_type": "code",
      "execution_count": null,
      "metadata": {
        "id": "Bt1n7UWWR0Ue"
      },
      "outputs": [],
      "source": [
        "list1.append(100)\n",
        "list1"
      ]
    },
    {
      "cell_type": "code",
      "execution_count": null,
      "metadata": {
        "id": "7gAJ6adPR0VK"
      },
      "outputs": [],
      "source": [
        "list1"
      ]
    },
    {
      "cell_type": "code",
      "execution_count": null,
      "metadata": {
        "id": "MB5ONTasR0VL"
      },
      "outputs": [],
      "source": [
        "list1.append(10,30)"
      ]
    },
    {
      "cell_type": "code",
      "execution_count": null,
      "metadata": {
        "id": "oVwxtn5KR0VL"
      },
      "outputs": [],
      "source": [
        "list1.append((10,11))\n",
        "list1"
      ]
    },
    {
      "cell_type": "code",
      "execution_count": null,
      "metadata": {
        "id": "xxdLfSSvR0WK"
      },
      "outputs": [],
      "source": [
        "list1.append([2,3,4])\n",
        "list1"
      ]
    },
    {
      "cell_type": "code",
      "execution_count": null,
      "metadata": {
        "id": "eIP_vnoyR0We"
      },
      "outputs": [],
      "source": [
        "tup1"
      ]
    },
    {
      "cell_type": "code",
      "execution_count": null,
      "metadata": {
        "id": "BSNSZOCNR0Wh"
      },
      "outputs": [],
      "source": [
        "tup1.append(10)"
      ]
    },
    {
      "cell_type": "code",
      "execution_count": null,
      "metadata": {
        "id": "ken-x4gLR0W4"
      },
      "outputs": [],
      "source": [
        "list1"
      ]
    },
    {
      "cell_type": "code",
      "execution_count": null,
      "metadata": {
        "id": "co7HRAvFR0XT"
      },
      "outputs": [],
      "source": [
        "list1.insert(3,55)\n",
        "list1"
      ]
    },
    {
      "cell_type": "code",
      "execution_count": null,
      "metadata": {
        "id": "qpMjlCnGR0X2"
      },
      "outputs": [],
      "source": [
        "list1[4]= 99\n",
        "list1"
      ]
    },
    {
      "cell_type": "code",
      "execution_count": null,
      "metadata": {
        "id": "cDlbW2-zR0YB"
      },
      "outputs": [],
      "source": [
        "list1[1:4] = [55,66,77]\n",
        "list1"
      ]
    },
    {
      "cell_type": "markdown",
      "metadata": {
        "id": "cNDv_pWgR0YZ"
      },
      "source": [
        "## Remove elements"
      ]
    },
    {
      "cell_type": "code",
      "execution_count": null,
      "metadata": {
        "id": "njJUMtNBR0Yp"
      },
      "outputs": [],
      "source": [
        "lst = [10,20,30,40,50,60,70,80,90,100]\n",
        "lst"
      ]
    },
    {
      "cell_type": "code",
      "execution_count": null,
      "metadata": {
        "id": "ACVezEBQR0Yr"
      },
      "outputs": [],
      "source": [
        "del lst[2]"
      ]
    },
    {
      "cell_type": "code",
      "execution_count": null,
      "metadata": {
        "id": "f28WcfzdR0Ys"
      },
      "outputs": [],
      "source": [
        "lst"
      ]
    },
    {
      "cell_type": "code",
      "execution_count": null,
      "metadata": {
        "id": "y6-ZLLmTR0ZK"
      },
      "outputs": [],
      "source": [
        "del lst[2:4]"
      ]
    },
    {
      "cell_type": "code",
      "execution_count": null,
      "metadata": {
        "id": "JXVq4aaOR0Zl"
      },
      "outputs": [],
      "source": [
        "lst"
      ]
    },
    {
      "cell_type": "code",
      "execution_count": null,
      "metadata": {
        "id": "-hyY7uS8R0Zw"
      },
      "outputs": [],
      "source": []
    },
    {
      "cell_type": "code",
      "execution_count": null,
      "metadata": {
        "id": "zmxTffa4R0Z6"
      },
      "outputs": [],
      "source": [
        "x = lst.pop(2)\n",
        "x"
      ]
    },
    {
      "cell_type": "code",
      "execution_count": null,
      "metadata": {
        "id": "g0Ta2zHTR0aP"
      },
      "outputs": [],
      "source": [
        "lst"
      ]
    },
    {
      "cell_type": "code",
      "execution_count": null,
      "metadata": {
        "id": "CcjLNgz2R0ax"
      },
      "outputs": [],
      "source": [
        "x = lst.pop()\n",
        "x"
      ]
    },
    {
      "cell_type": "code",
      "execution_count": null,
      "metadata": {
        "id": "mqY-MFRbR0bw"
      },
      "outputs": [],
      "source": [
        "lst"
      ]
    },
    {
      "cell_type": "code",
      "execution_count": null,
      "metadata": {
        "id": "-66oeWZcR0cI"
      },
      "outputs": [],
      "source": [
        "x=lst.remove(70)\n",
        "x"
      ]
    },
    {
      "cell_type": "code",
      "execution_count": null,
      "metadata": {
        "id": "Cfm7BFRWR0c4"
      },
      "outputs": [],
      "source": [
        "lst"
      ]
    },
    {
      "cell_type": "code",
      "execution_count": null,
      "metadata": {
        "id": "_QkZkcQHR0dA"
      },
      "outputs": [],
      "source": [
        "lst.pop.clear()\n",
        "lst"
      ]
    },
    {
      "cell_type": "code",
      "execution_count": null,
      "metadata": {
        "id": "__aeCL43R0dr"
      },
      "outputs": [],
      "source": [
        "x=tup1.pop()\n",
        "x"
      ]
    },
    {
      "cell_type": "code",
      "execution_count": null,
      "metadata": {
        "id": "m4Ru8e3UR0eI"
      },
      "outputs": [],
      "source": [
        "tup1.clear()\n",
        "tup1"
      ]
    },
    {
      "cell_type": "markdown",
      "metadata": {
        "id": "7DE5mVXdR0el"
      },
      "source": [
        "## Reverse"
      ]
    },
    {
      "cell_type": "code",
      "execution_count": null,
      "metadata": {
        "id": "9MspdvCzR0eq"
      },
      "outputs": [],
      "source": [
        "lst = [10,20,30,40,500,50,60,99,70,80,90,100]\n",
        "lst"
      ]
    },
    {
      "cell_type": "code",
      "execution_count": null,
      "metadata": {
        "id": "HcC4sNHoR0e0"
      },
      "outputs": [],
      "source": [
        "lst.reverse()"
      ]
    },
    {
      "cell_type": "code",
      "execution_count": null,
      "metadata": {
        "id": "_v5O-IPlR0e0"
      },
      "outputs": [],
      "source": [
        "lst"
      ]
    },
    {
      "cell_type": "code",
      "execution_count": null,
      "metadata": {
        "id": "2Zh4tLswR0fI"
      },
      "outputs": [],
      "source": [
        "lst = [10,20,30,77,11,40,50,60,70,99,80,90,100]"
      ]
    },
    {
      "cell_type": "code",
      "execution_count": null,
      "metadata": {
        "id": "3NNlhcZ0R0vG"
      },
      "outputs": [],
      "source": [
        "lst[::-1] # This is applicable for all sequences,This will not change the original list"
      ]
    },
    {
      "cell_type": "code",
      "execution_count": null,
      "metadata": {
        "id": "A2GtZAkmR0vH"
      },
      "outputs": [],
      "source": [
        "lst"
      ]
    },
    {
      "cell_type": "markdown",
      "metadata": {
        "id": "pCSTDR71R0vI"
      },
      "source": [
        "## Sort"
      ]
    },
    {
      "cell_type": "code",
      "execution_count": null,
      "metadata": {
        "id": "mXfGjQizR0vJ"
      },
      "outputs": [],
      "source": [
        "lst"
      ]
    },
    {
      "cell_type": "code",
      "execution_count": null,
      "metadata": {
        "id": "rWSlptoyR0vJ"
      },
      "outputs": [],
      "source": [
        "lst.sort()"
      ]
    },
    {
      "cell_type": "code",
      "execution_count": null,
      "metadata": {
        "id": "Wzb5IoHZR0vJ"
      },
      "outputs": [],
      "source": [
        "lst"
      ]
    },
    {
      "cell_type": "code",
      "execution_count": null,
      "metadata": {
        "id": "YuhTx34-R0vK"
      },
      "outputs": [],
      "source": [
        "lst.sort(reverse = True)\n",
        "lst"
      ]
    },
    {
      "cell_type": "code",
      "execution_count": null,
      "metadata": {
        "id": "ysLogtvGR0vK"
      },
      "outputs": [],
      "source": []
    },
    {
      "cell_type": "code",
      "execution_count": null,
      "metadata": {
        "id": "Rewe66v8R0vL"
      },
      "outputs": [],
      "source": [
        "list3 = ['c','c++','python','java','apple123']\n",
        "list3"
      ]
    },
    {
      "cell_type": "code",
      "execution_count": null,
      "metadata": {
        "id": "vATfyp1RR0vM"
      },
      "outputs": [],
      "source": [
        "list3.sort()\n",
        "list3"
      ]
    },
    {
      "cell_type": "code",
      "execution_count": null,
      "metadata": {
        "id": "VoJck3thR0vM"
      },
      "outputs": [],
      "source": [
        "def myfunc(x):\n",
        "    return len(x)"
      ]
    },
    {
      "cell_type": "code",
      "execution_count": null,
      "metadata": {
        "id": "vth7VeDTR0vN"
      },
      "outputs": [],
      "source": [
        "list3.sort(key=myfunc)\n",
        "list3"
      ]
    },
    {
      "cell_type": "markdown",
      "metadata": {
        "id": "BhLJ3FgmR0vO"
      },
      "source": [
        "## Tuple"
      ]
    },
    {
      "cell_type": "code",
      "execution_count": null,
      "metadata": {
        "id": "N9YYynsUR0vO"
      },
      "outputs": [],
      "source": [
        "tup = ([1,2,3,4],[5,6,7,8])"
      ]
    },
    {
      "cell_type": "code",
      "execution_count": null,
      "metadata": {
        "id": "fKuDiNQwR0vO"
      },
      "outputs": [],
      "source": [
        "tup[0]"
      ]
    },
    {
      "cell_type": "code",
      "execution_count": null,
      "metadata": {
        "id": "_9WcZNO2R0vP"
      },
      "outputs": [],
      "source": [
        "tup[0].append(44)"
      ]
    },
    {
      "cell_type": "code",
      "execution_count": null,
      "metadata": {
        "id": "wBDVWZrqR0vR"
      },
      "outputs": [],
      "source": [
        "tup"
      ]
    },
    {
      "cell_type": "markdown",
      "metadata": {
        "id": "bZHGbTp4R0vR"
      },
      "source": [
        "## String"
      ]
    },
    {
      "cell_type": "code",
      "execution_count": null,
      "metadata": {
        "id": "qy992-nbR0vS"
      },
      "outputs": [],
      "source": [
        "my_str = \"python\"\n",
        "my_str"
      ]
    },
    {
      "cell_type": "code",
      "execution_count": null,
      "metadata": {
        "id": "f45CRa6iR0vS"
      },
      "outputs": [],
      "source": [
        "my_str.capitalize()"
      ]
    },
    {
      "cell_type": "code",
      "execution_count": null,
      "metadata": {
        "id": "An9SiASbR0vT"
      },
      "outputs": [],
      "source": [
        "my_str1 = \"hello world\"\n",
        "my_str1.capitalize()"
      ]
    },
    {
      "cell_type": "code",
      "execution_count": null,
      "metadata": {
        "id": "EE73dQ39R0vT"
      },
      "outputs": [],
      "source": [
        "my_str1.title()"
      ]
    },
    {
      "cell_type": "code",
      "execution_count": null,
      "metadata": {
        "id": "ZLjFGqn3R0vU"
      },
      "outputs": [],
      "source": [
        "my_str1"
      ]
    },
    {
      "cell_type": "code",
      "execution_count": null,
      "metadata": {
        "id": "4T-_9s46R0vU"
      },
      "outputs": [],
      "source": [
        "my_str1.lower()"
      ]
    },
    {
      "cell_type": "code",
      "execution_count": null,
      "metadata": {
        "id": "-9RpAcfDR0vV"
      },
      "outputs": [],
      "source": [
        "my_str1.upper()"
      ]
    },
    {
      "cell_type": "code",
      "execution_count": null,
      "metadata": {
        "id": "JjdMcfKuR0vV"
      },
      "outputs": [],
      "source": [
        "'PYTHON'.lower()"
      ]
    },
    {
      "cell_type": "code",
      "execution_count": null,
      "metadata": {
        "id": "DBxjj9uaR0vV"
      },
      "outputs": [],
      "source": [
        "'Python'.swapcase()"
      ]
    },
    {
      "cell_type": "code",
      "execution_count": null,
      "metadata": {
        "id": "TgAOnubaR0vW"
      },
      "outputs": [],
      "source": [
        "'python'.endswith('on'), 'python'.endswith('ab')"
      ]
    },
    {
      "cell_type": "code",
      "execution_count": null,
      "metadata": {
        "id": "Y_EHN28SR0vW"
      },
      "outputs": [],
      "source": [
        "'python'.startswith('py'), 'python'.startswith('cd')"
      ]
    },
    {
      "cell_type": "code",
      "execution_count": null,
      "metadata": {
        "id": "_y52KSYKR0vX"
      },
      "outputs": [],
      "source": [
        "my_str.startswith('py')"
      ]
    },
    {
      "cell_type": "code",
      "execution_count": null,
      "metadata": {
        "id": "CMIX1BLNR0vX"
      },
      "outputs": [],
      "source": [
        "my_str = 'pyttthon'"
      ]
    },
    {
      "cell_type": "code",
      "execution_count": null,
      "metadata": {
        "id": "u55d0BE9R0vY"
      },
      "outputs": [],
      "source": [
        "my_str.find('t')"
      ]
    },
    {
      "cell_type": "code",
      "execution_count": null,
      "metadata": {
        "id": "ELauS8JJR0vY"
      },
      "outputs": [],
      "source": [
        "my_str.find('b')"
      ]
    },
    {
      "cell_type": "code",
      "execution_count": null,
      "metadata": {
        "id": "ess6TeTGR0vZ"
      },
      "outputs": [],
      "source": [
        "str1 = 'python3'\n",
        "str1"
      ]
    },
    {
      "cell_type": "code",
      "execution_count": null,
      "metadata": {
        "id": "ySW6HfTCR0vZ"
      },
      "outputs": [],
      "source": [
        "str1.isalpha(),str1.isalnum(),str1.isnumeric()"
      ]
    },
    {
      "cell_type": "code",
      "execution_count": null,
      "metadata": {
        "id": "8gHoH5LNR0va"
      },
      "outputs": [],
      "source": [
        "str2 = '123'\n",
        "str2.isalpha(),str2.isalnum(),str2.isnumeric()"
      ]
    },
    {
      "cell_type": "code",
      "execution_count": null,
      "metadata": {
        "id": "pwBdZvXFR0va"
      },
      "outputs": [],
      "source": [
        "str4= \"EXCELR\"\n",
        "str4.isalpha(),str4.isalnum(),str4.isnumeric()"
      ]
    },
    {
      "cell_type": "code",
      "execution_count": null,
      "metadata": {
        "id": "grhs4j3lR0vb"
      },
      "outputs": [],
      "source": [
        "' '.isspace(), ''.isspace()"
      ]
    },
    {
      "cell_type": "code",
      "execution_count": null,
      "metadata": {
        "id": "uEv0GAIzR0vb"
      },
      "outputs": [],
      "source": [
        "'  python  '.strip()"
      ]
    },
    {
      "cell_type": "code",
      "execution_count": null,
      "metadata": {
        "id": "HJ8QFdGGR0vc"
      },
      "outputs": [],
      "source": [
        "\n",
        "'   python    '.lstrip()"
      ]
    },
    {
      "cell_type": "code",
      "execution_count": null,
      "metadata": {
        "id": "jgSK0qvaR0vc"
      },
      "outputs": [],
      "source": [
        "'   python    '.rstrip()"
      ]
    },
    {
      "cell_type": "code",
      "execution_count": null,
      "metadata": {
        "id": "00mRUNtxR0vd"
      },
      "outputs": [],
      "source": [
        "'hello wolrd and welocme to pytho'.split('o')"
      ]
    },
    {
      "cell_type": "code",
      "execution_count": null,
      "metadata": {
        "id": "Oz_u6SMyR0vd"
      },
      "outputs": [],
      "source": []
    },
    {
      "cell_type": "code",
      "execution_count": null,
      "metadata": {
        "id": "M434MS9GR0ve"
      },
      "outputs": [],
      "source": [
        "'1,2,3'.split(',')\n"
      ]
    },
    {
      "cell_type": "code",
      "execution_count": null,
      "metadata": {
        "id": "FLW3kHEDR0ve"
      },
      "outputs": [],
      "source": [
        "'ab;cd;ef'.split(';')"
      ]
    },
    {
      "cell_type": "code",
      "execution_count": null,
      "metadata": {
        "id": "wuRTNEO2R0vf"
      },
      "outputs": [],
      "source": [
        "# count() method returns the number of occurrences of the substring in the given string.\n",
        "x = \"Welcome to python basics\"\n",
        "x"
      ]
    },
    {
      "cell_type": "code",
      "execution_count": null,
      "metadata": {
        "id": "oIGrPF3jR0vf"
      },
      "outputs": [],
      "source": [
        "count1 = x.count(\"o\")\n",
        "count1"
      ]
    },
    {
      "cell_type": "code",
      "execution_count": null,
      "metadata": {
        "id": "mQmZXeNWR0vg"
      },
      "outputs": [],
      "source": [
        "# print count\n",
        "print(\"The count is:\", count1)"
      ]
    },
    {
      "cell_type": "code",
      "execution_count": 33,
      "metadata": {
        "colab": {
          "base_uri": "https://localhost:8080/"
        },
        "id": "5gG81RChR0vh",
        "outputId": "0d4e96a0-f812-4d4c-ef4c-453b5a14a0ea"
      },
      "outputs": [
        {
          "data": {
            "text/plain": [
              "[(0, 'P'),\n",
              " (1, 'y'),\n",
              " (2, 't'),\n",
              " (3, 'h'),\n",
              " (4, 'o'),\n",
              " (5, 'n'),\n",
              " (6, ' '),\n",
              " (7, 'i'),\n",
              " (8, 's'),\n",
              " (9, ' '),\n",
              " (10, 'a'),\n",
              " (11, 'w'),\n",
              " (12, 'e'),\n",
              " (13, 's'),\n",
              " (14, 'o'),\n",
              " (15, 'm'),\n",
              " (16, 'e'),\n",
              " (17, ','),\n",
              " (18, ' '),\n",
              " (19, 'i'),\n",
              " (20, 's'),\n",
              " (21, 'n'),\n",
              " (22, \"'\"),\n",
              " (23, 't'),\n",
              " (24, ' '),\n",
              " (25, 'i'),\n",
              " (26, 't')]"
            ]
          },
          "execution_count": 33,
          "metadata": {},
          "output_type": "execute_result"
        }
      ],
      "source": [
        "# define string\n",
        "string = \"Python is awesome, isn't it\"\n",
        "string\n",
        "list(enumerate(string))"
      ]
    },
    {
      "cell_type": "code",
      "execution_count": 34,
      "metadata": {
        "colab": {
          "base_uri": "https://localhost:8080/",
          "height": 35
        },
        "id": "Syen-ZyyR0vh",
        "outputId": "d8f5bffc-fd6b-4842-c957-6d5117e3d58b"
      },
      "outputs": [
        {
          "data": {
            "application/vnd.google.colaboratory.intrinsic+json": {
              "type": "string"
            },
            "text/plain": [
              "' '"
            ]
          },
          "execution_count": 34,
          "metadata": {},
          "output_type": "execute_result"
        }
      ],
      "source": [
        "string[6]"
      ]
    },
    {
      "cell_type": "code",
      "execution_count": 35,
      "metadata": {
        "colab": {
          "base_uri": "https://localhost:8080/",
          "height": 35
        },
        "id": "LTeZnMXUR0vi",
        "outputId": "4552646f-df0c-4980-97ab-7f35a6703658"
      },
      "outputs": [
        {
          "data": {
            "application/vnd.google.colaboratory.intrinsic+json": {
              "type": "string"
            },
            "text/plain": [
              "'i'"
            ]
          },
          "execution_count": 35,
          "metadata": {},
          "output_type": "execute_result"
        }
      ],
      "source": [
        "string[25]"
      ]
    },
    {
      "cell_type": "code",
      "execution_count": 36,
      "metadata": {
        "id": "YWWr8cPpR0vi"
      },
      "outputs": [],
      "source": [
        "substring = \",\""
      ]
    },
    {
      "cell_type": "code",
      "execution_count": 36,
      "metadata": {
        "id": "wXbkUaxTR0vi"
      },
      "outputs": [],
      "source": []
    },
    {
      "cell_type": "code",
      "execution_count": 37,
      "metadata": {
        "colab": {
          "base_uri": "https://localhost:8080/"
        },
        "id": "LOv-udK_R0vj",
        "outputId": "6bcb3fb6-19f8-4dd7-87cc-281f8ae43496"
      },
      "outputs": [
        {
          "data": {
            "text/plain": [
              "1"
            ]
          },
          "execution_count": 37,
          "metadata": {},
          "output_type": "execute_result"
        }
      ],
      "source": [
        "# count after first 'i' and before the last 'i'\n",
        "count1 = string.count(substring, 4, 25)\n",
        "count1"
      ]
    },
    {
      "cell_type": "code",
      "execution_count": 38,
      "metadata": {
        "colab": {
          "base_uri": "https://localhost:8080/",
          "height": 35
        },
        "id": "U6xHQcVbR0vj",
        "outputId": "a9acd174-f889-4b50-db9f-9b7eb4c726e1"
      },
      "outputs": [
        {
          "data": {
            "application/vnd.google.colaboratory.intrinsic+json": {
              "type": "string"
            },
            "text/plain": [
              "'It is very nice,it is excellent'"
            ]
          },
          "execution_count": 38,
          "metadata": {},
          "output_type": "execute_result"
        }
      ],
      "source": [
        "# Replace \n",
        "x='It is very nice,it is excellent'\n",
        "x"
      ]
    },
    {
      "cell_type": "code",
      "execution_count": null,
      "metadata": {
        "colab": {
          "base_uri": "https://localhost:8080/",
          "height": 35
        },
        "id": "boAxKXVBR0vk",
        "outputId": "a64ff4df-3fa6-41d2-bdc4-788447b22535"
      },
      "outputs": [
        {
          "data": {
            "application/vnd.google.colaboratory.intrinsic+json": {
              "type": "string"
            },
            "text/plain": [
              "'It was very nice,it was excellent'"
            ]
          },
          "execution_count": 39,
          "metadata": {},
          "output_type": "execute_result"
        }
      ],
      "source": [
        "y=x.replace(\"is\",\"was\")\n",
        "y"
      ]
    },
    {
      "cell_type": "code",
      "execution_count": 40,
      "metadata": {
        "colab": {
          "base_uri": "https://localhost:8080/",
          "height": 35
        },
        "id": "Bo_cc-7BR0vk",
        "outputId": "9b6eeeb2-486f-4fc2-a2c7-7a20077d0b1d"
      },
      "outputs": [
        {
          "data": {
            "application/vnd.google.colaboratory.intrinsic+json": {
              "type": "string"
            },
            "text/plain": [
              "'It was very nice,it was excellent'"
            ]
          },
          "execution_count": 40,
          "metadata": {},
          "output_type": "execute_result"
        }
      ],
      "source": [
        "y=x.replace('is','was',2)\n",
        "y"
      ]
    },
    {
      "cell_type": "markdown",
      "metadata": {
        "id": "Pkmp2VC-R0vl"
      },
      "source": [
        "## Variable unpacking"
      ]
    },
    {
      "cell_type": "code",
      "execution_count": 41,
      "metadata": {
        "colab": {
          "base_uri": "https://localhost:8080/"
        },
        "id": "zALCSNhdR0vl",
        "outputId": "f7bb5471-d6ca-4db5-ccfa-d369b5ae60ee"
      },
      "outputs": [
        {
          "data": {
            "text/plain": [
              "(1, 2, 3)"
            ]
          },
          "execution_count": 41,
          "metadata": {},
          "output_type": "execute_result"
        }
      ],
      "source": [
        "x,y,z = [1,2,3]\n",
        "x,y,z"
      ]
    },
    {
      "cell_type": "code",
      "execution_count": 42,
      "metadata": {
        "colab": {
          "base_uri": "https://localhost:8080/"
        },
        "id": "VPpqnjO7R0vm",
        "outputId": "ae4da487-49e2-4d6b-97d8-18f0fbc746fb"
      },
      "outputs": [
        {
          "data": {
            "text/plain": [
              "3"
            ]
          },
          "execution_count": 42,
          "metadata": {},
          "output_type": "execute_result"
        }
      ],
      "source": [
        "z"
      ]
    },
    {
      "cell_type": "code",
      "execution_count": 43,
      "metadata": {
        "colab": {
          "base_uri": "https://localhost:8080/"
        },
        "id": "BEsPuNEoR0wJ",
        "outputId": "ff628ed0-2b01-44ea-f5cf-2faab9495a96"
      },
      "outputs": [
        {
          "data": {
            "text/plain": [
              "(5, 6, 7)"
            ]
          },
          "execution_count": 43,
          "metadata": {},
          "output_type": "execute_result"
        }
      ],
      "source": [
        "a,b,c = (5,6,7)\n",
        "a,b,c"
      ]
    },
    {
      "cell_type": "code",
      "execution_count": 44,
      "metadata": {
        "colab": {
          "base_uri": "https://localhost:8080/"
        },
        "id": "DkpKhAYSR0wT",
        "outputId": "81b02de8-d28b-4f20-eed2-5f4df14ddf6d"
      },
      "outputs": [
        {
          "data": {
            "text/plain": [
              "7"
            ]
          },
          "execution_count": 44,
          "metadata": {},
          "output_type": "execute_result"
        }
      ],
      "source": [
        "c"
      ]
    },
    {
      "cell_type": "code",
      "execution_count": 45,
      "metadata": {
        "colab": {
          "base_uri": "https://localhost:8080/"
        },
        "id": "emU8VhOrR0wU",
        "outputId": "3e8c90b7-4261-484b-e602-de224baa1fec"
      },
      "outputs": [
        {
          "data": {
            "text/plain": [
              "('a', 'b', 'c')"
            ]
          },
          "execution_count": 45,
          "metadata": {},
          "output_type": "execute_result"
        }
      ],
      "source": [
        "x,y,z = 'abc'\n",
        "x,y,z"
      ]
    },
    {
      "cell_type": "markdown",
      "metadata": {
        "id": "C1mffLSOR0wb"
      },
      "source": [
        "## Dictionaries"
      ]
    },
    {
      "cell_type": "code",
      "execution_count": 46,
      "metadata": {
        "colab": {
          "base_uri": "https://localhost:8080/"
        },
        "id": "T_TmLHGIR0wy",
        "outputId": "366a33f7-0a5b-40c6-cf7b-0d296f47173b"
      },
      "outputs": [
        {
          "data": {
            "text/plain": [
              "{'Name': 'shafi', 'Age': 35}"
            ]
          },
          "execution_count": 46,
          "metadata": {},
          "output_type": "execute_result"
        }
      ],
      "source": [
        "dict1 = {'Name':'shafi','Age':35}\n",
        "dict1"
      ]
    },
    {
      "cell_type": "code",
      "execution_count": 47,
      "metadata": {
        "colab": {
          "base_uri": "https://localhost:8080/",
          "height": 35
        },
        "id": "WAszvNwrR0w2",
        "outputId": "c02792b6-e451-40af-8217-6fbf62a09952"
      },
      "outputs": [
        {
          "data": {
            "application/vnd.google.colaboratory.intrinsic+json": {
              "type": "string"
            },
            "text/plain": [
              "'shafi'"
            ]
          },
          "execution_count": 47,
          "metadata": {},
          "output_type": "execute_result"
        }
      ],
      "source": [
        "# Accessing values in a dictionary\n",
        "dict1['Name']"
      ]
    },
    {
      "cell_type": "code",
      "execution_count": 48,
      "metadata": {
        "colab": {
          "base_uri": "https://localhost:8080/"
        },
        "id": "T548xPxHR0w9",
        "outputId": "78b921a0-ba93-4297-987f-419d6260d97b"
      },
      "outputs": [
        {
          "data": {
            "text/plain": [
              "35"
            ]
          },
          "execution_count": 48,
          "metadata": {},
          "output_type": "execute_result"
        }
      ],
      "source": [
        "dict1['Age']"
      ]
    },
    {
      "cell_type": "code",
      "execution_count": 49,
      "metadata": {
        "colab": {
          "base_uri": "https://localhost:8080/"
        },
        "id": "q1XIRBETR0xC",
        "outputId": "1157afff-17ff-4a90-d6b5-16224feb1325"
      },
      "outputs": [
        {
          "data": {
            "text/plain": [
              "{'Name': 'ramya', 'Age': 35}"
            ]
          },
          "execution_count": 49,
          "metadata": {},
          "output_type": "execute_result"
        }
      ],
      "source": [
        "## Updating dictionary\n",
        "dict1['Name']='ramya'\n",
        "dict1"
      ]
    },
    {
      "cell_type": "code",
      "execution_count": 50,
      "metadata": {
        "colab": {
          "base_uri": "https://localhost:8080/"
        },
        "id": "pR5POUkZR0xJ",
        "outputId": "fa69516d-388e-4ff1-f18e-db8e0d70f922"
      },
      "outputs": [
        {
          "data": {
            "text/plain": [
              "{'Name': 'ramya', 'Age': 35, 'Location': 'benglore'}"
            ]
          },
          "execution_count": 50,
          "metadata": {},
          "output_type": "execute_result"
        }
      ],
      "source": [
        "dict1['Location']='benglore' #addition of elements\n",
        "dict1"
      ]
    },
    {
      "cell_type": "code",
      "execution_count": 50,
      "metadata": {
        "id": "JFJexAkCR0xK"
      },
      "outputs": [],
      "source": []
    },
    {
      "cell_type": "code",
      "execution_count": 51,
      "metadata": {
        "id": "Gtyx7nlgR0xL"
      },
      "outputs": [],
      "source": [
        "## Delete dictionary elements\n",
        "del(dict1['Name'])"
      ]
    },
    {
      "cell_type": "code",
      "execution_count": 52,
      "metadata": {
        "colab": {
          "base_uri": "https://localhost:8080/"
        },
        "id": "hPBEYS_kR0xL",
        "outputId": "645448c8-b1e0-4ea5-d152-5e18abe2f741"
      },
      "outputs": [
        {
          "data": {
            "text/plain": [
              "{'Age': 35, 'Location': 'benglore'}"
            ]
          },
          "execution_count": 52,
          "metadata": {},
          "output_type": "execute_result"
        }
      ],
      "source": [
        "dict1"
      ]
    },
    {
      "cell_type": "code",
      "execution_count": 53,
      "metadata": {
        "id": "liQCPMDiR0xM"
      },
      "outputs": [],
      "source": [
        "dict1.clear()"
      ]
    },
    {
      "cell_type": "code",
      "execution_count": 54,
      "metadata": {
        "colab": {
          "base_uri": "https://localhost:8080/"
        },
        "id": "Ep_wbiYyR0xM",
        "outputId": "ab6df3aa-23c0-4190-d3d2-84f27e3a54f5"
      },
      "outputs": [
        {
          "data": {
            "text/plain": [
              "{}"
            ]
          },
          "execution_count": 54,
          "metadata": {},
          "output_type": "execute_result"
        }
      ],
      "source": [
        "dict1"
      ]
    },
    {
      "cell_type": "code",
      "execution_count": 55,
      "metadata": {
        "id": "OGugwpBGR0xN"
      },
      "outputs": [],
      "source": [
        "del(dict1)"
      ]
    },
    {
      "cell_type": "code",
      "execution_count": null,
      "metadata": {
        "colab": {
          "base_uri": "https://localhost:8080/",
          "height": 165
        },
        "id": "X0-jDR-0R0xN",
        "outputId": "bf4bb41c-1027-4b8e-e9c5-6796ff6bfd2f"
      },
      "outputs": [
        {
          "ename": "NameError",
          "evalue": "ignored",
          "output_type": "error",
          "traceback": [
            "\u001b[0;31m---------------------------------------------------------------------------\u001b[0m",
            "\u001b[0;31mNameError\u001b[0m                                 Traceback (most recent call last)",
            "\u001b[0;32m<ipython-input-56-e36219336d90>\u001b[0m in \u001b[0;36m<module>\u001b[0;34m\u001b[0m\n\u001b[0;32m----> 1\u001b[0;31m \u001b[0mdict1\u001b[0m\u001b[0;34m\u001b[0m\u001b[0;34m\u001b[0m\u001b[0m\n\u001b[0m",
            "\u001b[0;31mNameError\u001b[0m: name 'dict1' is not defined"
          ]
        }
      ],
      "source": [
        "dict1"
      ]
    },
    {
      "cell_type": "markdown",
      "metadata": {
        "id": "IwTZEDxUR0xO"
      },
      "source": [
        "## Sets"
      ]
    },
    {
      "cell_type": "code",
      "execution_count": null,
      "metadata": {
        "id": "glH1490zR0xO"
      },
      "outputs": [],
      "source": [
        "## Sets have unique values\n",
        "## Sets doesnot have positional ordering\n",
        "s1 = {1,2,3,4}\n",
        "s1"
      ]
    },
    {
      "cell_type": "code",
      "execution_count": null,
      "metadata": {
        "id": "5HMRkmw4R0xU"
      },
      "outputs": [],
      "source": [
        "s1[1]    # We can't access the elements with index"
      ]
    },
    {
      "cell_type": "code",
      "execution_count": null,
      "metadata": {
        "id": "Mikw3dM_R0xh"
      },
      "outputs": [],
      "source": []
    },
    {
      "cell_type": "code",
      "execution_count": null,
      "metadata": {
        "id": "tqhzYQELR0xo"
      },
      "outputs": [],
      "source": [
        "s2 = {11,2,55,66,8}\n",
        "s2"
      ]
    },
    {
      "cell_type": "code",
      "execution_count": null,
      "metadata": {
        "id": "arWtlz2uR0yG"
      },
      "outputs": [],
      "source": [
        "list1=[22,11,33,12,25]\n",
        "list1"
      ]
    },
    {
      "cell_type": "code",
      "execution_count": null,
      "metadata": {
        "id": "BBnwLrwkR0yM"
      },
      "outputs": [],
      "source": [
        "s2"
      ]
    },
    {
      "cell_type": "code",
      "execution_count": null,
      "metadata": {
        "id": "l0MmPgO1R0yO"
      },
      "outputs": [],
      "source": [
        "type(s2)"
      ]
    },
    {
      "cell_type": "code",
      "execution_count": null,
      "metadata": {
        "id": "9QxrHVFJR0yP"
      },
      "outputs": [],
      "source": [
        "for i in s2:\n",
        "    print(i)"
      ]
    },
    {
      "cell_type": "code",
      "execution_count": null,
      "metadata": {
        "id": "COcP3305R0yP"
      },
      "outputs": [],
      "source": [
        "s1 = {}\n",
        "type(s1)"
      ]
    },
    {
      "cell_type": "code",
      "execution_count": null,
      "metadata": {
        "id": "wkcwuwaWR0yP"
      },
      "outputs": [],
      "source": [
        "s1 = set()\n",
        "\n",
        "type(s1)"
      ]
    },
    {
      "cell_type": "code",
      "execution_count": null,
      "metadata": {
        "id": "5O-XlHvzR0yQ"
      },
      "outputs": [],
      "source": [
        "len(s1)"
      ]
    },
    {
      "cell_type": "code",
      "execution_count": null,
      "metadata": {
        "id": "tiToLuDdR0yR"
      },
      "outputs": [],
      "source": [
        "s1 = {1,'a',(1,2),9.9} # it is taking only immutable data types\n",
        "s1"
      ]
    },
    {
      "cell_type": "code",
      "execution_count": null,
      "metadata": {
        "id": "SLDqjM6NR0yS"
      },
      "outputs": [],
      "source": [
        "s3 = {1,[1,2,3],5.5,(1,3)} # it is not taking mutable data type list\n",
        "s3"
      ]
    },
    {
      "cell_type": "code",
      "execution_count": null,
      "metadata": {
        "id": "NWcG6Os_R0yT"
      },
      "outputs": [],
      "source": [
        "s1 = set([10,33,4,5])\n",
        "s1"
      ]
    },
    {
      "cell_type": "code",
      "execution_count": null,
      "metadata": {
        "id": "F5xYNFhiR0yU"
      },
      "outputs": [],
      "source": [
        "s2 = set((11,2,35,4))\n",
        "s2"
      ]
    },
    {
      "cell_type": "code",
      "execution_count": null,
      "metadata": {
        "id": "-WPhL_5jR0yd"
      },
      "outputs": [],
      "source": [
        "s3 = set('python')\n",
        "s3"
      ]
    },
    {
      "cell_type": "code",
      "execution_count": null,
      "metadata": {
        "id": "1AGumR98R0zA"
      },
      "outputs": [],
      "source": [
        "s4 = set('hiiiiiiiiiiii')\n",
        "s4"
      ]
    },
    {
      "cell_type": "code",
      "execution_count": null,
      "metadata": {
        "id": "PcJjrELXR0zQ"
      },
      "outputs": [],
      "source": []
    },
    {
      "cell_type": "markdown",
      "metadata": {
        "id": "5p8ia3bbR0zb"
      },
      "source": [
        "## Range"
      ]
    },
    {
      "cell_type": "code",
      "execution_count": null,
      "metadata": {
        "id": "IqjgRhKXR0zf"
      },
      "outputs": [],
      "source": [
        "for i in range(1,5):\n",
        "    print(i)"
      ]
    },
    {
      "cell_type": "code",
      "execution_count": null,
      "metadata": {
        "id": "k5jrTWysR0z7"
      },
      "outputs": [],
      "source": [
        "s5 = set(range(1,10))\n",
        "s5"
      ]
    }
  ],
  "metadata": {
    "kernelspec": {
      "display_name": "Python 3",
      "language": "python",
      "name": "python3"
    },
    "language_info": {
      "codemirror_mode": {
        "name": "ipython",
        "version": 3
      },
      "file_extension": ".py",
      "mimetype": "text/x-python",
      "name": "python",
      "nbconvert_exporter": "python",
      "pygments_lexer": "ipython3",
      "version": "3.8.8"
    },
    "colab": {
      "provenance": [],
      "include_colab_link": true
    }
  },
  "nbformat": 4,
  "nbformat_minor": 0
}